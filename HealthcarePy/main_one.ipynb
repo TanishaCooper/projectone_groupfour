{
 "cells": [
  {
   "cell_type": "markdown",
   "id": "74dacbae",
   "metadata": {},
   "source": [
    "## Leading Causes of Death Around the World"
   ]
  },
  {
   "cell_type": "markdown",
   "id": "ff905ec5",
   "metadata": {},
   "source": []
  },
  {
   "cell_type": "code",
   "execution_count": 1,
   "id": "fd484823",
   "metadata": {},
   "outputs": [],
   "source": [
    "import pandas as pd\n",
    "import matplotlib as plt\n",
    "import numpy as np\n",
    "import os\n",
    "import requests\n",
    "import time\n",
    "from scipy.stats import linregress\n",
    "from pprint import pprint"
   ]
  },
  {
   "cell_type": "code",
   "execution_count": 8,
   "id": "054bf5b7",
   "metadata": {},
   "outputs": [],
   "source": [
    "# Pull in csv files \n",
    "annual_num_deaths_csv = (\"../Resources/annual-number-of-deaths-by-cause.csv\")\n",
    "mortality_df = pd.read_csv(annual_num_deaths_csv)\n",
    "# mortality_df.head()\n",
    "\n",
    "socio_csv = (\"../Resources/soci_econ_country_profiles.csv\")\n",
    "socio_df = pd.read_csv(socio_csv)\n",
    "# socio_df.head()"
   ]
  },
  {
   "cell_type": "code",
   "execution_count": 9,
   "id": "fd998b89",
   "metadata": {},
   "outputs": [
    {
     "data": {
      "text/plain": [
       "Index(['Entity', 'Code', 'Year',\n",
       "       'Number of executions (Amnesty International)',\n",
       "       'Deaths - Meningitis - Sex: Both - Age: All Ages (Number)',\n",
       "       'Deaths - Neoplasms - Sex: Both - Age: All Ages (Number)',\n",
       "       'Deaths - Fire, heat, and hot substances - Sex: Both - Age: All Ages (Number)',\n",
       "       'Deaths - Malaria - Sex: Both - Age: All Ages (Number)',\n",
       "       'Deaths - Drowning - Sex: Both - Age: All Ages (Number)',\n",
       "       'Deaths - Interpersonal violence - Sex: Both - Age: All Ages (Number)',\n",
       "       'Deaths - HIV/AIDS - Sex: Both - Age: All Ages (Number)',\n",
       "       'Deaths - Drug use disorders - Sex: Both - Age: All Ages (Number)',\n",
       "       'Deaths - Tuberculosis - Sex: Both - Age: All Ages (Number)',\n",
       "       'Deaths - Road injuries - Sex: Both - Age: All Ages (Number)',\n",
       "       'Deaths - Maternal disorders - Sex: Both - Age: All Ages (Number)',\n",
       "       'Deaths - Lower respiratory infections - Sex: Both - Age: All Ages (Number)',\n",
       "       'Deaths - Neonatal disorders - Sex: Both - Age: All Ages (Number)',\n",
       "       'Deaths - Alcohol use disorders - Sex: Both - Age: All Ages (Number)',\n",
       "       'Deaths - Exposure to forces of nature - Sex: Both - Age: All Ages (Number)',\n",
       "       'Deaths - Diarrheal diseases - Sex: Both - Age: All Ages (Number)',\n",
       "       'Deaths - Environmental heat and cold exposure - Sex: Both - Age: All Ages (Number)',\n",
       "       'Deaths - Nutritional deficiencies - Sex: Both - Age: All Ages (Number)',\n",
       "       'Deaths - Self-harm - Sex: Both - Age: All Ages (Number)',\n",
       "       'Deaths - Conflict and terrorism - Sex: Both - Age: All Ages (Number)',\n",
       "       'Deaths - Diabetes mellitus - Sex: Both - Age: All Ages (Number)',\n",
       "       'Deaths - Poisonings - Sex: Both - Age: All Ages (Number)',\n",
       "       'Deaths - Protein-energy malnutrition - Sex: Both - Age: All Ages (Number)',\n",
       "       'Terrorism (deaths)',\n",
       "       'Deaths - Cardiovascular diseases - Sex: Both - Age: All Ages (Number)',\n",
       "       'Deaths - Chronic kidney disease - Sex: Both - Age: All Ages (Number)',\n",
       "       'Deaths - Chronic respiratory diseases - Sex: Both - Age: All Ages (Number)',\n",
       "       'Deaths - Cirrhosis and other chronic liver diseases - Sex: Both - Age: All Ages (Number)',\n",
       "       'Deaths - Digestive diseases - Sex: Both - Age: All Ages (Number)',\n",
       "       'Deaths - Acute hepatitis - Sex: Both - Age: All Ages (Number)',\n",
       "       'Deaths - Alzheimer's disease and other dementias - Sex: Both - Age: All Ages (Number)',\n",
       "       'Deaths - Parkinson's disease - Sex: Both - Age: All Ages (Number)'],\n",
       "      dtype='object')"
      ]
     },
     "execution_count": 9,
     "metadata": {},
     "output_type": "execute_result"
    }
   ],
   "source": [
    "mortality_df.columns\n",
    "df['text_new'] = df['text'].str.split('::').str[0]\n",
    "mortality_df[\"Deaths - Meningitis - Sex: Both - Age: All Ages (Number)\"] = "
   ]
  },
  {
   "cell_type": "code",
   "execution_count": null,
   "id": "9cdb2f3c",
   "metadata": {},
   "outputs": [],
   "source": [
    "# Merge csv files with data we will need to chart\n",
    "# pd.merge(mortality_df, socio_df)"
   ]
  }
 ],
 "metadata": {
  "kernelspec": {
   "display_name": "Python 3",
   "language": "python",
   "name": "python3"
  },
  "language_info": {
   "codemirror_mode": {
    "name": "ipython",
    "version": 3
   },
   "file_extension": ".py",
   "mimetype": "text/x-python",
   "name": "python",
   "nbconvert_exporter": "python",
   "pygments_lexer": "ipython3",
   "version": "3.6.10"
  }
 },
 "nbformat": 4,
 "nbformat_minor": 5
}
