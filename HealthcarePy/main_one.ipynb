{
 "cells": [
  {
   "cell_type": "markdown",
   "id": "74dacbae",
   "metadata": {},
   "source": [
    "## Leading Causes of Death Around the World"
   ]
  },
  {
   "cell_type": "markdown",
   "id": "ff905ec5",
   "metadata": {},
   "source": []
  },
  {
   "cell_type": "code",
   "execution_count": 9,
   "id": "fd484823",
   "metadata": {},
   "outputs": [],
   "source": [
    "import pandas as pd\n",
    "import matplotlib as plt\n",
    "import numpy as np\n",
    "import os\n",
    "import requests\n",
    "import time\n",
    "from scipy.stats import linregress\n",
    "from pprint import pprint"
   ]
  },
  {
   "cell_type": "code",
   "execution_count": 12,
   "id": "054bf5b7",
   "metadata": {},
   "outputs": [
    {
     "ename": "UnicodeDecodeError",
     "evalue": "'utf-8' codec can't decode byte 0xdc in position 1: invalid continuation byte",
     "output_type": "error",
     "traceback": [
      "\u001b[0;31m---------------------------------------------------------------------------\u001b[0m",
      "\u001b[0;31mUnicodeDecodeError\u001b[0m                        Traceback (most recent call last)",
      "\u001b[0;32m<ipython-input-12-0ddafa8a1117>\u001b[0m in \u001b[0;36m<module>\u001b[0;34m\u001b[0m\n\u001b[1;32m      1\u001b[0m \u001b[0;31m# Pull in csv files\u001b[0m\u001b[0;34m\u001b[0m\u001b[0;34m\u001b[0m\u001b[0;34m\u001b[0m\u001b[0m\n\u001b[1;32m      2\u001b[0m \u001b[0mannual_num_deaths_csv\u001b[0m \u001b[0;34m=\u001b[0m \u001b[0;34m(\u001b[0m\u001b[0;34m\"../Resources/annual-number-of-deaths-by-cause.csv\"\u001b[0m\u001b[0;34m)\u001b[0m\u001b[0;34m\u001b[0m\u001b[0;34m\u001b[0m\u001b[0m\n\u001b[0;32m----> 3\u001b[0;31m \u001b[0mmortality_df\u001b[0m \u001b[0;34m=\u001b[0m \u001b[0mpd\u001b[0m\u001b[0;34m.\u001b[0m\u001b[0mread_csv\u001b[0m\u001b[0;34m(\u001b[0m\u001b[0mannual_num_deaths_csv\u001b[0m\u001b[0;34m)\u001b[0m\u001b[0;34m\u001b[0m\u001b[0;34m\u001b[0m\u001b[0m\n\u001b[0m\u001b[1;32m      4\u001b[0m \u001b[0mmortality_df\u001b[0m\u001b[0;34m.\u001b[0m\u001b[0mhead\u001b[0m\u001b[0;34m(\u001b[0m\u001b[0;34m)\u001b[0m\u001b[0;34m\u001b[0m\u001b[0;34m\u001b[0m\u001b[0m\n\u001b[1;32m      5\u001b[0m \u001b[0;34m\u001b[0m\u001b[0m\n",
      "\u001b[0;32m/opt/anaconda3/envs/PythonData/lib/python3.6/site-packages/pandas/io/parsers.py\u001b[0m in \u001b[0;36mparser_f\u001b[0;34m(filepath_or_buffer, sep, delimiter, header, names, index_col, usecols, squeeze, prefix, mangle_dupe_cols, dtype, engine, converters, true_values, false_values, skipinitialspace, skiprows, skipfooter, nrows, na_values, keep_default_na, na_filter, verbose, skip_blank_lines, parse_dates, infer_datetime_format, keep_date_col, date_parser, dayfirst, cache_dates, iterator, chunksize, compression, thousands, decimal, lineterminator, quotechar, quoting, doublequote, escapechar, comment, encoding, dialect, error_bad_lines, warn_bad_lines, delim_whitespace, low_memory, memory_map, float_precision)\u001b[0m\n\u001b[1;32m    674\u001b[0m         )\n\u001b[1;32m    675\u001b[0m \u001b[0;34m\u001b[0m\u001b[0m\n\u001b[0;32m--> 676\u001b[0;31m         \u001b[0;32mreturn\u001b[0m \u001b[0m_read\u001b[0m\u001b[0;34m(\u001b[0m\u001b[0mfilepath_or_buffer\u001b[0m\u001b[0;34m,\u001b[0m \u001b[0mkwds\u001b[0m\u001b[0;34m)\u001b[0m\u001b[0;34m\u001b[0m\u001b[0;34m\u001b[0m\u001b[0m\n\u001b[0m\u001b[1;32m    677\u001b[0m \u001b[0;34m\u001b[0m\u001b[0m\n\u001b[1;32m    678\u001b[0m     \u001b[0mparser_f\u001b[0m\u001b[0;34m.\u001b[0m\u001b[0m__name__\u001b[0m \u001b[0;34m=\u001b[0m \u001b[0mname\u001b[0m\u001b[0;34m\u001b[0m\u001b[0;34m\u001b[0m\u001b[0m\n",
      "\u001b[0;32m/opt/anaconda3/envs/PythonData/lib/python3.6/site-packages/pandas/io/parsers.py\u001b[0m in \u001b[0;36m_read\u001b[0;34m(filepath_or_buffer, kwds)\u001b[0m\n\u001b[1;32m    446\u001b[0m \u001b[0;34m\u001b[0m\u001b[0m\n\u001b[1;32m    447\u001b[0m     \u001b[0;31m# Create the parser.\u001b[0m\u001b[0;34m\u001b[0m\u001b[0;34m\u001b[0m\u001b[0;34m\u001b[0m\u001b[0m\n\u001b[0;32m--> 448\u001b[0;31m     \u001b[0mparser\u001b[0m \u001b[0;34m=\u001b[0m \u001b[0mTextFileReader\u001b[0m\u001b[0;34m(\u001b[0m\u001b[0mfp_or_buf\u001b[0m\u001b[0;34m,\u001b[0m \u001b[0;34m**\u001b[0m\u001b[0mkwds\u001b[0m\u001b[0;34m)\u001b[0m\u001b[0;34m\u001b[0m\u001b[0;34m\u001b[0m\u001b[0m\n\u001b[0m\u001b[1;32m    449\u001b[0m \u001b[0;34m\u001b[0m\u001b[0m\n\u001b[1;32m    450\u001b[0m     \u001b[0;32mif\u001b[0m \u001b[0mchunksize\u001b[0m \u001b[0;32mor\u001b[0m \u001b[0miterator\u001b[0m\u001b[0;34m:\u001b[0m\u001b[0;34m\u001b[0m\u001b[0;34m\u001b[0m\u001b[0m\n",
      "\u001b[0;32m/opt/anaconda3/envs/PythonData/lib/python3.6/site-packages/pandas/io/parsers.py\u001b[0m in \u001b[0;36m__init__\u001b[0;34m(self, f, engine, **kwds)\u001b[0m\n\u001b[1;32m    878\u001b[0m             \u001b[0mself\u001b[0m\u001b[0;34m.\u001b[0m\u001b[0moptions\u001b[0m\u001b[0;34m[\u001b[0m\u001b[0;34m\"has_index_names\"\u001b[0m\u001b[0;34m]\u001b[0m \u001b[0;34m=\u001b[0m \u001b[0mkwds\u001b[0m\u001b[0;34m[\u001b[0m\u001b[0;34m\"has_index_names\"\u001b[0m\u001b[0;34m]\u001b[0m\u001b[0;34m\u001b[0m\u001b[0;34m\u001b[0m\u001b[0m\n\u001b[1;32m    879\u001b[0m \u001b[0;34m\u001b[0m\u001b[0m\n\u001b[0;32m--> 880\u001b[0;31m         \u001b[0mself\u001b[0m\u001b[0;34m.\u001b[0m\u001b[0m_make_engine\u001b[0m\u001b[0;34m(\u001b[0m\u001b[0mself\u001b[0m\u001b[0;34m.\u001b[0m\u001b[0mengine\u001b[0m\u001b[0;34m)\u001b[0m\u001b[0;34m\u001b[0m\u001b[0;34m\u001b[0m\u001b[0m\n\u001b[0m\u001b[1;32m    881\u001b[0m \u001b[0;34m\u001b[0m\u001b[0m\n\u001b[1;32m    882\u001b[0m     \u001b[0;32mdef\u001b[0m \u001b[0mclose\u001b[0m\u001b[0;34m(\u001b[0m\u001b[0mself\u001b[0m\u001b[0;34m)\u001b[0m\u001b[0;34m:\u001b[0m\u001b[0;34m\u001b[0m\u001b[0;34m\u001b[0m\u001b[0m\n",
      "\u001b[0;32m/opt/anaconda3/envs/PythonData/lib/python3.6/site-packages/pandas/io/parsers.py\u001b[0m in \u001b[0;36m_make_engine\u001b[0;34m(self, engine)\u001b[0m\n\u001b[1;32m   1112\u001b[0m     \u001b[0;32mdef\u001b[0m \u001b[0m_make_engine\u001b[0m\u001b[0;34m(\u001b[0m\u001b[0mself\u001b[0m\u001b[0;34m,\u001b[0m \u001b[0mengine\u001b[0m\u001b[0;34m=\u001b[0m\u001b[0;34m\"c\"\u001b[0m\u001b[0;34m)\u001b[0m\u001b[0;34m:\u001b[0m\u001b[0;34m\u001b[0m\u001b[0;34m\u001b[0m\u001b[0m\n\u001b[1;32m   1113\u001b[0m         \u001b[0;32mif\u001b[0m \u001b[0mengine\u001b[0m \u001b[0;34m==\u001b[0m \u001b[0;34m\"c\"\u001b[0m\u001b[0;34m:\u001b[0m\u001b[0;34m\u001b[0m\u001b[0;34m\u001b[0m\u001b[0m\n\u001b[0;32m-> 1114\u001b[0;31m             \u001b[0mself\u001b[0m\u001b[0;34m.\u001b[0m\u001b[0m_engine\u001b[0m \u001b[0;34m=\u001b[0m \u001b[0mCParserWrapper\u001b[0m\u001b[0;34m(\u001b[0m\u001b[0mself\u001b[0m\u001b[0;34m.\u001b[0m\u001b[0mf\u001b[0m\u001b[0;34m,\u001b[0m \u001b[0;34m**\u001b[0m\u001b[0mself\u001b[0m\u001b[0;34m.\u001b[0m\u001b[0moptions\u001b[0m\u001b[0;34m)\u001b[0m\u001b[0;34m\u001b[0m\u001b[0;34m\u001b[0m\u001b[0m\n\u001b[0m\u001b[1;32m   1115\u001b[0m         \u001b[0;32melse\u001b[0m\u001b[0;34m:\u001b[0m\u001b[0;34m\u001b[0m\u001b[0;34m\u001b[0m\u001b[0m\n\u001b[1;32m   1116\u001b[0m             \u001b[0;32mif\u001b[0m \u001b[0mengine\u001b[0m \u001b[0;34m==\u001b[0m \u001b[0;34m\"python\"\u001b[0m\u001b[0;34m:\u001b[0m\u001b[0;34m\u001b[0m\u001b[0;34m\u001b[0m\u001b[0m\n",
      "\u001b[0;32m/opt/anaconda3/envs/PythonData/lib/python3.6/site-packages/pandas/io/parsers.py\u001b[0m in \u001b[0;36m__init__\u001b[0;34m(self, src, **kwds)\u001b[0m\n\u001b[1;32m   1889\u001b[0m         \u001b[0mkwds\u001b[0m\u001b[0;34m[\u001b[0m\u001b[0;34m\"usecols\"\u001b[0m\u001b[0;34m]\u001b[0m \u001b[0;34m=\u001b[0m \u001b[0mself\u001b[0m\u001b[0;34m.\u001b[0m\u001b[0musecols\u001b[0m\u001b[0;34m\u001b[0m\u001b[0;34m\u001b[0m\u001b[0m\n\u001b[1;32m   1890\u001b[0m \u001b[0;34m\u001b[0m\u001b[0m\n\u001b[0;32m-> 1891\u001b[0;31m         \u001b[0mself\u001b[0m\u001b[0;34m.\u001b[0m\u001b[0m_reader\u001b[0m \u001b[0;34m=\u001b[0m \u001b[0mparsers\u001b[0m\u001b[0;34m.\u001b[0m\u001b[0mTextReader\u001b[0m\u001b[0;34m(\u001b[0m\u001b[0msrc\u001b[0m\u001b[0;34m,\u001b[0m \u001b[0;34m**\u001b[0m\u001b[0mkwds\u001b[0m\u001b[0;34m)\u001b[0m\u001b[0;34m\u001b[0m\u001b[0;34m\u001b[0m\u001b[0m\n\u001b[0m\u001b[1;32m   1892\u001b[0m         \u001b[0mself\u001b[0m\u001b[0;34m.\u001b[0m\u001b[0munnamed_cols\u001b[0m \u001b[0;34m=\u001b[0m \u001b[0mself\u001b[0m\u001b[0;34m.\u001b[0m\u001b[0m_reader\u001b[0m\u001b[0;34m.\u001b[0m\u001b[0munnamed_cols\u001b[0m\u001b[0;34m\u001b[0m\u001b[0;34m\u001b[0m\u001b[0m\n\u001b[1;32m   1893\u001b[0m \u001b[0;34m\u001b[0m\u001b[0m\n",
      "\u001b[0;32mpandas/_libs/parsers.pyx\u001b[0m in \u001b[0;36mpandas._libs.parsers.TextReader.__cinit__\u001b[0;34m()\u001b[0m\n",
      "\u001b[0;32mpandas/_libs/parsers.pyx\u001b[0m in \u001b[0;36mpandas._libs.parsers.TextReader._get_header\u001b[0;34m()\u001b[0m\n",
      "\u001b[0;31mUnicodeDecodeError\u001b[0m: 'utf-8' codec can't decode byte 0xdc in position 1: invalid continuation byte"
     ]
    }
   ],
   "source": [
    "# Pull in csv files \n",
    "annual_num_deaths_csv = (\"../Resources/annual-number-of-deaths-by-cause.csv\")\n",
    "mortality_df = pd.read_csv(annual_num_deaths_csv)\n",
    "mortality_df.head()\n",
    "\n",
    "socio_csv = (\"../Resources/soci_econ_country_profiles.csv\")\n",
    "socio_df = pd.read_csv(socio_csv)\n",
    "# socio_df.head()"
   ]
  },
  {
   "cell_type": "code",
   "execution_count": 5,
   "id": "fd998b89",
   "metadata": {},
   "outputs": [
    {
     "ename": "SyntaxError",
     "evalue": "invalid syntax (<ipython-input-5-dfab5620d7c6>, line 3)",
     "output_type": "error",
     "traceback": [
      "\u001b[0;36m  File \u001b[0;32m\"<ipython-input-5-dfab5620d7c6>\"\u001b[0;36m, line \u001b[0;32m3\u001b[0m\n\u001b[0;31m    mortality_df[\"Deaths - Meningitis - Sex: Both - Age: All Ages (Number)\"] =\u001b[0m\n\u001b[0m                                                                               ^\u001b[0m\n\u001b[0;31mSyntaxError\u001b[0m\u001b[0;31m:\u001b[0m invalid syntax\n"
     ]
    }
   ],
   "source": [
    "# mortality_df.columns\n",
    "# df['text_new'] = df['text'].str.split('::').str[0]\n",
    "# mortality_df[\"Deaths - Meningitis - Sex: Both - Age: All Ages (Number)\"] = "
   ]
  },
  {
   "cell_type": "code",
   "execution_count": null,
   "id": "9cdb2f3c",
   "metadata": {},
   "outputs": [],
   "source": [
    "# Merge csv files with data we will need to chart\n",
    "# pd.merge(mortality_df, socio_df)"
   ]
  },
  {
   "cell_type": "code",
   "execution_count": 7,
   "id": "28501072",
   "metadata": {},
   "outputs": [
    {
     "data": {
      "text/plain": [
       "Index(['Unnamed: 0', 'country', 'Region', 'Surface area (km2)',\n",
       "       'Population in thousands (2017)', 'Population density (per km2, 2017)',\n",
       "       'Sex ratio (m per 100 f, 2017)',\n",
       "       'GDP: Gross domestic product (million current US$)',\n",
       "       'GDP growth rate (annual %, const. 2005 prices)',\n",
       "       'GDP per capita (current US$)', 'Economy: Agriculture (% of GVA)',\n",
       "       'Economy: Industry (% of GVA)',\n",
       "       'Economy: Services and other activity (% of GVA)',\n",
       "       'Employment: Agriculture (% of employed)',\n",
       "       'Employment: Industry (% of employed)',\n",
       "       'Employment: Services (% of employed)',\n",
       "       'Unemployment (% of labour force)',\n",
       "       'Labour force participation (female/male pop. %)',\n",
       "       'Agricultural production index (2004-2006=100)',\n",
       "       'Food production index (2004-2006=100)',\n",
       "       'International trade: Exports (million US$)',\n",
       "       'International trade: Imports (million US$)',\n",
       "       'International trade: Balance (million US$)',\n",
       "       'Balance of payments, current account (million US$)',\n",
       "       'Population growth rate (average annual %)',\n",
       "       'Urban population (% of total population)_x',\n",
       "       'Urban population growth rate (average annual %)',\n",
       "       'Fertility rate, total (live births per woman)',\n",
       "       'Population age distribution (0-14 / 60+ years, %)',\n",
       "       'International migrant stock (000/% of total pop.)',\n",
       "       'Refugees and others of concern to UNHCR (in thousands)',\n",
       "       'Infant mortality rate (per 1000 live births',\n",
       "       'Health: Total expenditure (% of GDP)',\n",
       "       'Health: Physicians (per 1000 pop.)',\n",
       "       'Education: Government expenditure (% of GDP)',\n",
       "       'Education: Primary gross enrol. ratio (f/m per 100 pop.)',\n",
       "       'Education: Secondary gross enrol. ratio (f/m per 100 pop.)',\n",
       "       'Education: Tertiary gross enrol. ratio (f/m per 100 pop.)',\n",
       "       'Seats held by women in national parliaments %',\n",
       "       'Mobile-cellular subscriptions (per 100 inhabitants)',\n",
       "       'Mobile-cellular subscriptions (per 100 inhabitants).1',\n",
       "       'Individuals using the Internet (per 100 inhabitants)',\n",
       "       'Threatened species (number)', 'Forested area (% of land area)',\n",
       "       'CO2 emission estimates (million tons/tons per capita)',\n",
       "       'Energy production, primary (Petajoules)',\n",
       "       'Energy supply per capita (Gigajoules)',\n",
       "       'Pop. using improved drinking water (urban/rural, %)',\n",
       "       'Pop. using improved sanitation facilities (urban/rural, %)',\n",
       "       'Net Official Development Assist. received (% of GNI)',\n",
       "       'Quality Of Life Index', 'Purchasing Power Index', 'Safety Index',\n",
       "       'Health Care Index', 'Cost of Living', 'Property price to income ratio',\n",
       "       'Traffic commute time index', 'Pollution index', 'Climate index',\n",
       "       'Gross Rental Yield City Center', 'Gross Rental Yield Outside Center',\n",
       "       'Property Price to Rent Ratio City Center',\n",
       "       'Property Price to Rent Ratio Outside Center',\n",
       "       'Mortgate as percentage of income', 'Affordability Index',\n",
       "       'Cost Of Living Index', 'Rent Index', 'Cost Of Living Plus Rent Index',\n",
       "       'Grocery Index', 'Restaurant Price Index',\n",
       "       'Local Purchasing Power Index',\n",
       "       'Access to electricity (% of population)',\n",
       "       'Adjusted net national income per capita (constant 2010 US$)',\n",
       "       'Age dependency ratio (% of working-age population)',\n",
       "       'Air transport, freight (million ton-km)',\n",
       "       'Air transport, passengers carried',\n",
       "       'Commercial service exports (current US$)',\n",
       "       'Commercial service imports (current US$)',\n",
       "       'Consumer price index (2010 = 100)',\n",
       "       'Current account balance (% of GDP)',\n",
       "       'Current health expenditure (% of GDP)',\n",
       "       'Exports of goods and services (% of GDP)',\n",
       "       'Gross domestic savings (% of GDP)',\n",
       "       'High-technology exports (current US$)',\n",
       "       'Human capital index (HCI) (scale 0-1)',\n",
       "       'Imports of goods and services (% of GDP)',\n",
       "       'Inflation, consumer prices (annual %)',\n",
       "       'Life expectancy at birth, female (years)',\n",
       "       'Life expectancy at birth, male (years)',\n",
       "       'Life expectancy at birth, total (years)',\n",
       "       'Military expenditure (% of GDP)', 'Population, female',\n",
       "       'Population, male', 'Tax revenue (% of GDP)',\n",
       "       'Taxes on income, profits and capital gains (% of revenue)',\n",
       "       'Urban population (% of total population)_y'],\n",
       "      dtype='object')"
      ]
     },
     "execution_count": 7,
     "metadata": {},
     "output_type": "execute_result"
    }
   ],
   "source": [
    "socio_df.columns"
   ]
  },
  {
   "cell_type": "code",
   "execution_count": 6,
   "id": "e04f36ea",
   "metadata": {},
   "outputs": [
    {
     "data": {
      "text/html": [
       "<div>\n",
       "<style scoped>\n",
       "    .dataframe tbody tr th:only-of-type {\n",
       "        vertical-align: middle;\n",
       "    }\n",
       "\n",
       "    .dataframe tbody tr th {\n",
       "        vertical-align: top;\n",
       "    }\n",
       "\n",
       "    .dataframe thead th {\n",
       "        text-align: right;\n",
       "    }\n",
       "</style>\n",
       "<table border=\"1\" class=\"dataframe\">\n",
       "  <thead>\n",
       "    <tr style=\"text-align: right;\">\n",
       "      <th></th>\n",
       "      <th>country</th>\n",
       "      <th>Region</th>\n",
       "      <th>Health: Total expenditure (% of GDP)</th>\n",
       "      <th>Health: Physicians (per 1000 pop.)</th>\n",
       "      <th>Current health expenditure (% of GDP)</th>\n",
       "      <th>GDP: Gross domestic product (million current US$)</th>\n",
       "    </tr>\n",
       "  </thead>\n",
       "  <tbody>\n",
       "    <tr>\n",
       "      <th>0</th>\n",
       "      <td>Argentina</td>\n",
       "      <td>SouthAmerica</td>\n",
       "      <td>4.8</td>\n",
       "      <td>3.8</td>\n",
       "      <td>9.124315</td>\n",
       "      <td>632343</td>\n",
       "    </tr>\n",
       "    <tr>\n",
       "      <th>1</th>\n",
       "      <td>Australia</td>\n",
       "      <td>Oceania</td>\n",
       "      <td>9.4</td>\n",
       "      <td>3.4</td>\n",
       "      <td>9.205948</td>\n",
       "      <td>1230859</td>\n",
       "    </tr>\n",
       "    <tr>\n",
       "      <th>2</th>\n",
       "      <td>Austria</td>\n",
       "      <td>WesternEurope</td>\n",
       "      <td>11.2</td>\n",
       "      <td>5.2</td>\n",
       "      <td>10.396617</td>\n",
       "      <td>376967</td>\n",
       "    </tr>\n",
       "    <tr>\n",
       "      <th>3</th>\n",
       "      <td>Belarus</td>\n",
       "      <td>EasternEurope</td>\n",
       "      <td>5.7</td>\n",
       "      <td>4.1</td>\n",
       "      <td>5.925786</td>\n",
       "      <td>54609</td>\n",
       "    </tr>\n",
       "    <tr>\n",
       "      <th>4</th>\n",
       "      <td>Belgium</td>\n",
       "      <td>WesternEurope</td>\n",
       "      <td>10.6</td>\n",
       "      <td>3.0</td>\n",
       "      <td>10.338669</td>\n",
       "      <td>455107</td>\n",
       "    </tr>\n",
       "  </tbody>\n",
       "</table>\n",
       "</div>"
      ],
      "text/plain": [
       "     country         Region  Health: Total expenditure (% of GDP)  \\\n",
       "0  Argentina   SouthAmerica                                   4.8   \n",
       "1  Australia        Oceania                                   9.4   \n",
       "2    Austria  WesternEurope                                  11.2   \n",
       "3    Belarus  EasternEurope                                   5.7   \n",
       "4    Belgium  WesternEurope                                  10.6   \n",
       "\n",
       "  Health: Physicians (per 1000 pop.)  Current health expenditure (% of GDP)  \\\n",
       "0                                3.8                               9.124315   \n",
       "1                                3.4                               9.205948   \n",
       "2                                5.2                              10.396617   \n",
       "3                                4.1                               5.925786   \n",
       "4                                3.0                              10.338669   \n",
       "\n",
       "   GDP: Gross domestic product (million current US$)  \n",
       "0                                             632343  \n",
       "1                                            1230859  \n",
       "2                                             376967  \n",
       "3                                              54609  \n",
       "4                                             455107  "
      ]
     },
     "execution_count": 6,
     "metadata": {},
     "output_type": "execute_result"
    }
   ],
   "source": [
    "new_socio_df = socio_df[[\"country\", \n",
    "             \"Region\",\n",
    "             \"Health: Total expenditure (% of GDP)\", \n",
    "             \"Health: Physicians (per 1000 pop.)\", \n",
    "             \"Current health expenditure (% of GDP)\",\n",
    "             \"GDP: Gross domestic product (million current US$)\"\n",
    "            ]]\n",
    "new_socio_df.head()"
   ]
  },
  {
   "cell_type": "code",
   "execution_count": null,
   "id": "019cfbcf",
   "metadata": {},
   "outputs": [],
   "source": []
  }
 ],
 "metadata": {
  "kernelspec": {
   "display_name": "Python 3",
   "language": "python",
   "name": "python3"
  },
  "language_info": {
   "codemirror_mode": {
    "name": "ipython",
    "version": 3
   },
   "file_extension": ".py",
   "mimetype": "text/x-python",
   "name": "python",
   "nbconvert_exporter": "python",
   "pygments_lexer": "ipython3",
   "version": "3.6.10"
  }
 },
 "nbformat": 4,
 "nbformat_minor": 5
}
