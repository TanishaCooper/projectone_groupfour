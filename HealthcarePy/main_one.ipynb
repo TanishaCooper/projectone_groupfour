{
 "cells": [
  {
   "cell_type": "markdown",
   "id": "74dacbae",
   "metadata": {},
   "source": [
    "## Leading Causes of Death Around the World"
   ]
  },
  {
   "cell_type": "markdown",
   "id": "ff905ec5",
   "metadata": {},
   "source": []
  },
  {
   "cell_type": "code",
   "execution_count": 1,
   "id": "fd484823",
   "metadata": {},
   "outputs": [],
   "source": [
    "import pandas as pd\n",
    "import matplotlib as plt\n",
    "import numpy as np\n",
    "import os\n",
    "import requests\n",
    "import time\n",
    "from scipy.stats import linregress\n",
    "from pprint import pprint"
   ]
  },
  {
   "cell_type": "code",
   "execution_count": 2,
   "id": "054bf5b7",
   "metadata": {},
   "outputs": [],
   "source": [
    "# Pull in csv files \n",
    "annual_num_deaths_csv = (\"../Resources/annual-number-of-deaths-by-cause.csv\")\n",
    "mortality_df = pd.read_csv(annual_num_deaths_csv)\n",
    "mortality_df.head()\n",
    "\n",
    "socio_csv = (\"../Resources/soci_econ_country_profiles.csv\")\n",
    "socio_df = pd.read_csv(socio_csv)\n",
    "# socio_df.head()"
   ]
  },
  {
   "cell_type": "markdown",
   "id": "a95868cc",
   "metadata": {},
   "source": [
    "Deaths - Neoplasms - Sex: Both - Age: All Ages (Number)"
   ]
  },
  {
   "cell_type": "code",
   "execution_count": 29,
   "id": "fd998b89",
   "metadata": {},
   "outputs": [
    {
     "name": "stdout",
     "output_type": "stream",
     "text": [
      "Entity\n",
      "Code\n",
      "Year\n",
      "Number of executions (Amnesty International)\n",
      " Meningitis \n",
      " Neoplasms \n",
      " Fire, heat, and hot substances \n",
      " Malaria \n",
      " Drowning \n",
      " Interpersonal violence \n",
      " HIV/AIDS \n",
      " Drug use disorders \n",
      " Tuberculosis \n",
      " Road injuries \n",
      " Maternal disorders \n",
      " Lower respiratory infections \n",
      " Neonatal disorders \n",
      " Alcohol use disorders \n",
      " Exposure to forces of nature \n",
      " Diarrheal diseases \n",
      " Environmental heat and cold exposure \n",
      " Nutritional deficiencies \n",
      " Self-harm \n",
      " Conflict and terrorism \n",
      " Diabetes mellitus \n",
      " Poisonings \n",
      " Protein-energy malnutrition \n",
      "Terrorism (deaths)\n",
      " Cardiovascular diseases \n",
      " Chronic kidney disease \n",
      " Chronic respiratory diseases \n",
      " Cirrhosis and other chronic liver diseases \n",
      " Digestive diseases \n",
      " Acute hepatitis \n",
      " Alzheimer's disease and other dementias \n",
      " Parkinson's disease \n"
     ]
    }
   ],
   "source": [
    "mortality_df.columns\n",
    "\n",
    "mortality_column_list = mortality_df.columns\n",
    "# mortality_column_list[6].replace(\"Deaths -\",\"\")\n",
    "\n",
    "new_mort_list = []\n",
    "\n",
    "for columns in range(len(mortality_column_list)):\n",
    "    new = mortality_column_list[columns].replace(\"Deaths -\",\"\")\n",
    "    new_two = new.replace(\"- Sex: Both - Age: All Ages (Number)\", \"\")\n",
    "    new_mort_list.append(new_two)\n",
    "    print(new_mort_list[columns])    \n",
    "# print(new_mort_list)"
   ]
  },
  {
   "cell_type": "code",
   "execution_count": 26,
   "id": "9cdb2f3c",
   "metadata": {},
   "outputs": [],
   "source": [
    "# Merge csv files with data we will need to chart\n",
    "# pd.merge(mortality_df, socio_df)"
   ]
  },
  {
   "cell_type": "code",
   "execution_count": 24,
   "id": "28501072",
   "metadata": {},
   "outputs": [],
   "source": [
    "# socio_df.columns"
   ]
  },
  {
   "cell_type": "code",
   "execution_count": 6,
   "id": "e04f36ea",
   "metadata": {},
   "outputs": [
    {
     "data": {
      "text/html": [
       "<div>\n",
       "<style scoped>\n",
       "    .dataframe tbody tr th:only-of-type {\n",
       "        vertical-align: middle;\n",
       "    }\n",
       "\n",
       "    .dataframe tbody tr th {\n",
       "        vertical-align: top;\n",
       "    }\n",
       "\n",
       "    .dataframe thead th {\n",
       "        text-align: right;\n",
       "    }\n",
       "</style>\n",
       "<table border=\"1\" class=\"dataframe\">\n",
       "  <thead>\n",
       "    <tr style=\"text-align: right;\">\n",
       "      <th></th>\n",
       "      <th>country</th>\n",
       "      <th>Region</th>\n",
       "      <th>Health: Total expenditure (% of GDP)</th>\n",
       "      <th>Health: Physicians (per 1000 pop.)</th>\n",
       "      <th>Current health expenditure (% of GDP)</th>\n",
       "      <th>GDP: Gross domestic product (million current US$)</th>\n",
       "    </tr>\n",
       "  </thead>\n",
       "  <tbody>\n",
       "    <tr>\n",
       "      <th>0</th>\n",
       "      <td>Argentina</td>\n",
       "      <td>SouthAmerica</td>\n",
       "      <td>4.8</td>\n",
       "      <td>3.8</td>\n",
       "      <td>9.124315</td>\n",
       "      <td>632343</td>\n",
       "    </tr>\n",
       "    <tr>\n",
       "      <th>1</th>\n",
       "      <td>Australia</td>\n",
       "      <td>Oceania</td>\n",
       "      <td>9.4</td>\n",
       "      <td>3.4</td>\n",
       "      <td>9.205948</td>\n",
       "      <td>1230859</td>\n",
       "    </tr>\n",
       "    <tr>\n",
       "      <th>2</th>\n",
       "      <td>Austria</td>\n",
       "      <td>WesternEurope</td>\n",
       "      <td>11.2</td>\n",
       "      <td>5.2</td>\n",
       "      <td>10.396617</td>\n",
       "      <td>376967</td>\n",
       "    </tr>\n",
       "    <tr>\n",
       "      <th>3</th>\n",
       "      <td>Belarus</td>\n",
       "      <td>EasternEurope</td>\n",
       "      <td>5.7</td>\n",
       "      <td>4.1</td>\n",
       "      <td>5.925786</td>\n",
       "      <td>54609</td>\n",
       "    </tr>\n",
       "    <tr>\n",
       "      <th>4</th>\n",
       "      <td>Belgium</td>\n",
       "      <td>WesternEurope</td>\n",
       "      <td>10.6</td>\n",
       "      <td>3.0</td>\n",
       "      <td>10.338669</td>\n",
       "      <td>455107</td>\n",
       "    </tr>\n",
       "  </tbody>\n",
       "</table>\n",
       "</div>"
      ],
      "text/plain": [
       "     country         Region  Health: Total expenditure (% of GDP)  \\\n",
       "0  Argentina   SouthAmerica                                   4.8   \n",
       "1  Australia        Oceania                                   9.4   \n",
       "2    Austria  WesternEurope                                  11.2   \n",
       "3    Belarus  EasternEurope                                   5.7   \n",
       "4    Belgium  WesternEurope                                  10.6   \n",
       "\n",
       "  Health: Physicians (per 1000 pop.)  Current health expenditure (% of GDP)  \\\n",
       "0                                3.8                               9.124315   \n",
       "1                                3.4                               9.205948   \n",
       "2                                5.2                              10.396617   \n",
       "3                                4.1                               5.925786   \n",
       "4                                3.0                              10.338669   \n",
       "\n",
       "   GDP: Gross domestic product (million current US$)  \n",
       "0                                             632343  \n",
       "1                                            1230859  \n",
       "2                                             376967  \n",
       "3                                              54609  \n",
       "4                                             455107  "
      ]
     },
     "execution_count": 6,
     "metadata": {},
     "output_type": "execute_result"
    }
   ],
   "source": [
    "new_socio_df = socio_df[[\"country\", \n",
    "             \"Region\",\n",
    "             \"Health: Total expenditure (% of GDP)\", \n",
    "             \"Health: Physicians (per 1000 pop.)\", \n",
    "             \"Current health expenditure (% of GDP)\",\n",
    "             \"GDP: Gross domestic product (million current US$)\"\n",
    "            ]]\n",
    "new_socio_df.head()"
   ]
  },
  {
   "cell_type": "code",
   "execution_count": null,
   "id": "019cfbcf",
   "metadata": {},
   "outputs": [],
   "source": []
  }
 ],
 "metadata": {
  "kernelspec": {
   "display_name": "Python 3",
   "language": "python",
   "name": "python3"
  },
  "language_info": {
   "codemirror_mode": {
    "name": "ipython",
    "version": 3
   },
   "file_extension": ".py",
   "mimetype": "text/x-python",
   "name": "python",
   "nbconvert_exporter": "python",
   "pygments_lexer": "ipython3",
   "version": "3.6.10"
  }
 },
 "nbformat": 4,
 "nbformat_minor": 5
}
